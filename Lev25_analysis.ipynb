{
 "cells": [
  {
   "cell_type": "markdown",
   "metadata": {},
   "source": [
    "# Analysis of Variation in Leviticus 25:1-24 in 𝔊 \n",
    "\n",
    "The following notebook presents and analyzes the data processed during the project \\*title\\*. The analysis of all variants is provided, except for variation in the use of the definite article.\n",
    "\n",
    "The data has been produced manually in a spreadsheet as variants were analyzed and categorized."
   ]
  },
  {
   "cell_type": "code",
   "execution_count": 1,
   "metadata": {
    "collapsed": true
   },
   "outputs": [],
   "source": [
    "# import\n",
    "vars <- read.csv('variants_complex.csv')\n",
    "vars <- droplevels(vars[vars$effect != 'determination',])\n",
    "\n",
    "write.csv(vars,'variants_complex_clean.csv')"
   ]
  },
  {
   "cell_type": "code",
   "execution_count": 2,
   "metadata": {
    "scrolled": true
   },
   "outputs": [
    {
     "data": {
      "text/html": [
       "<table>\n",
       "<thead><tr><th></th><th scope=col>ref</th><th scope=col>𝔊</th><th scope=col>X.</th><th scope=col>𝔐</th><th scope=col>kind</th><th scope=col>lvl</th><th scope=col>subspecies</th><th scope=col>effect</th><th scope=col>effect.lvl</th><th scope=col>cause</th><th scope=col>parallel</th><th scope=col>notes</th></tr></thead>\n",
       "<tbody>\n",
       "\t<tr><th scope=row>2</th><td>25:1.2                                                                                                                                                                                                                                                                                                                                                         </td><td>Σινα                                                                                                                                                                                                                                                                                                                                                           </td><td>סינה                                                                                                                                                                                                                                                                                                                                                           </td><td>סִינַ֖י                                                                                                                                                                                                                                                                                                                                                           </td><td>exchange                                                                                                                                                                                                                                                                                                                                                       </td><td>letter                                                                                                                                                                                                                                                                                                                                                         </td><td>ø                                                                                                                                                                                                                                                                                                                                                              </td><td>pronunciation                                                                                                                                                                                                                                                                                                                                                  </td><td>word                                                                                                                                                                                                                                                                                                                                                           </td><td>vorlage                                                                                                                                                                                                                                                                                                                                                        </td><td>ø                                                                                                                                                                                                                                                                                                                                                              </td><td>G reads a different vowel here, perhaps also a consonant ה                                                                                                                                                                                                                                                                                                     </td></tr>\n",
       "\t<tr><th scope=row>3</th><td>25:2.1                                                                                                                                                                                                                                                                                                                                                         </td><td>εἰς τὴν γῆν                                                                                                                                                                                                                                                                                                                                                    </td><td>בארץ                                                                                                                                                                                                                                                                                                                                                           </td><td>אֶל־הָאָ֔רֶץ                                                                                                                                                                                                                                                                                                                                                        </td><td>exchange                                                                                                                                                                                                                                                                                                                                                       </td><td>word                                                                                                                                                                                                                                                                                                                                                           </td><td>lexeme                                                                                                                                                                                                                                                                                                                                                         </td><td>narrowing                                                                                                                                                                                                                                                                                                                                                      </td><td>word                                                                                                                                                                                                                                                                                                                                                           </td><td>translation                                                                                                                                                                                                                                                                                                                                                    </td><td>εἰσέρχομαι                                                                                                                                                                                                                                                                                                                                                     </td><td>G reads εἰς suggestive of ב in place of אל; a brief query shows that אל seems to be more often glossed with προς. εἰς is sometimes used as well (or the dative). בוא is more frequently used with אל in MT (Jupyter; ~14% in late and early texts). Could the Greek lexeme εἰσέρχομαι have influenced the selection of verb? More data is needed to query this.</td></tr>\n",
       "</tbody>\n",
       "</table>\n"
      ],
      "text/latex": [
       "\\begin{tabular}{r|llllllllllll}\n",
       "  & ref & 𝔊 & X. & 𝔐 & kind & lvl & subspecies & effect & effect.lvl & cause & parallel & notes\\\\\n",
       "\\hline\n",
       "\t2 & 25:1.2                                                                                                                                                                                                                                                                                                                                                          & Σινα                                                                                                                                                                                                                                                                                                                                                            & סינה                                                                                                                                                                                                                                                                                                                                                            & סִינַ֖י                                                                                                                                                                                                                                                                                                                                                            & exchange                                                                                                                                                                                                                                                                                                                                                        & letter                                                                                                                                                                                                                                                                                                                                                          & ø                                                                                                                                                                                                                                                                                                                                                               & pronunciation                                                                                                                                                                                                                                                                                                                                                   & word                                                                                                                                                                                                                                                                                                                                                            & vorlage                                                                                                                                                                                                                                                                                                                                                         & ø                                                                                                                                                                                                                                                                                                                                                               & G reads a different vowel here, perhaps also a consonant ה                                                                                                                                                                                                                                                                                                     \\\\\n",
       "\t3 & 25:2.1                                                                                                                                                                                                                                                                                                                                                                             & εἰς τὴν γῆν                                                                                                                                                                                                                                                                                                                                                                        & בארץ                                                                                                                                                                                                                                                                                                                                                                               & אֶל־הָאָ֔רֶץ                                                                                                                                                                                                                                                                                                                                                                            & exchange                                                                                                                                                                                                                                                                                                                                                                           & word                                                                                                                                                                                                                                                                                                                                                                               & lexeme                                                                                                                                                                                                                                                                                                                                                                             & narrowing                                                                                                                                                                                                                                                                                                                                                                          & word                                                                                                                                                                                                                                                                                                                                                                               & translation                                                                                                                                                                                                                                                                                                                                                                        & εἰσέρχομαι                                                                                                                                                                                                                                                                                                                                                                         & G reads εἰς suggestive of ב in place of אל; a brief query shows that אל seems to be more often glossed with προς. εἰς is sometimes used as well (or the dative). בוא is more frequently used with אל in MT (Jupyter; \\textasciitilde{}14\\% in late and early texts). Could the Greek lexeme εἰσέρχομαι have influenced the selection of verb? More data is needed to query this.\\\\\n",
       "\\end{tabular}\n"
      ],
      "text/markdown": [
       "\n",
       "| <!--/--> | ref | 𝔊 | X. | 𝔐 | kind | lvl | subspecies | effect | effect.lvl | cause | parallel | notes | \n",
       "|---|---|\n",
       "| 2 | 25:1.2                                                                                                                                                                                                                                                                                                                                                          | Σινα                                                                                                                                                                                                                                                                                                                                                            | סינה                                                                                                                                                                                                                                                                                                                                                            | סִינַ֖י                                                                                                                                                                                                                                                                                                                                                            | exchange                                                                                                                                                                                                                                                                                                                                                        | letter                                                                                                                                                                                                                                                                                                                                                          | ø                                                                                                                                                                                                                                                                                                                                                               | pronunciation                                                                                                                                                                                                                                                                                                                                                   | word                                                                                                                                                                                                                                                                                                                                                            | vorlage                                                                                                                                                                                                                                                                                                                                                         | ø                                                                                                                                                                                                                                                                                                                                                               | G reads a different vowel here, perhaps also a consonant ה                                                                                                                                                                                                                                                                                                      | \n",
       "| 3 | 25:2.1                                                                                                                                                                                                                                                                                                                                                          | εἰς τὴν γῆν                                                                                                                                                                                                                                                                                                                                                     | בארץ                                                                                                                                                                                                                                                                                                                                                            | אֶל־הָאָ֔רֶץ                                                                                                                                                                                                                                                                                                                                                         | exchange                                                                                                                                                                                                                                                                                                                                                        | word                                                                                                                                                                                                                                                                                                                                                            | lexeme                                                                                                                                                                                                                                                                                                                                                          | narrowing                                                                                                                                                                                                                                                                                                                                                       | word                                                                                                                                                                                                                                                                                                                                                            | translation                                                                                                                                                                                                                                                                                                                                                     | εἰσέρχομαι                                                                                                                                                                                                                                                                                                                                                      | G reads εἰς suggestive of ב in place of אל; a brief query shows that אל seems to be more often glossed with προς. εἰς is sometimes used as well (or the dative). בוא is more frequently used with אל in MT (Jupyter; ~14% in late and early texts). Could the Greek lexeme εἰσέρχομαι have influenced the selection of verb? More data is needed to query this. | \n",
       "\n",
       "\n"
      ],
      "text/plain": [
       "  ref    𝔊           X.   𝔐       kind     lvl    subspecies effect       \n",
       "2 25:1.2 Σινα        סינה סִינַ֖י    exchange letter ø          pronunciation\n",
       "3 25:2.1 εἰς τὴν γῆν בארץ אֶל־הָאָ֔רֶץ exchange word   lexeme     narrowing    \n",
       "  effect.lvl cause       parallel  \n",
       "2 word       vorlage     ø         \n",
       "3 word       translation εἰσέρχομαι\n",
       "  notes                                                                                                                                                                                                                                                                                                                                                          \n",
       "2 G reads a different vowel here, perhaps also a consonant ה                                                                                                                                                                                                                                                                                                     \n",
       "3 G reads εἰς suggestive of ב in place of אל; a brief query shows that אל seems to be more often glossed with προς. εἰς is sometimes used as well (or the dative). בוא is more frequently used with אל in MT (Jupyter; ~14% in late and early texts). Could the Greek lexeme εἰσέρχομαι have influenced the selection of verb? More data is needed to query this."
      ]
     },
     "metadata": {},
     "output_type": "display_data"
    }
   ],
   "source": [
    "head(vars, 2) # sample "
   ]
  },
  {
   "cell_type": "markdown",
   "metadata": {},
   "source": [
    "### Count of Variants"
   ]
  },
  {
   "cell_type": "code",
   "execution_count": 3,
   "metadata": {},
   "outputs": [
    {
     "data": {
      "text/html": [
       "56"
      ],
      "text/latex": [
       "56"
      ],
      "text/markdown": [
       "56"
      ],
      "text/plain": [
       "[1] 56"
      ]
     },
     "metadata": {},
     "output_type": "display_data"
    }
   ],
   "source": [
    "nrow(vars) "
   ]
  },
  {
   "cell_type": "code",
   "execution_count": 4,
   "metadata": {},
   "outputs": [
    {
     "data": {
      "text/plain": [
       "\n",
       " exchange expansion  omission \n",
       "       33        17         6 "
      ]
     },
     "metadata": {},
     "output_type": "display_data"
    }
   ],
   "source": [
    "table(vars$kind)"
   ]
  },
  {
   "cell_type": "markdown",
   "metadata": {},
   "source": [
    "### Most Common Cause of Variation"
   ]
  },
  {
   "cell_type": "code",
   "execution_count": 5,
   "metadata": {},
   "outputs": [
    {
     "data": {
      "text/html": [
       "<table>\n",
       "<thead><tr><th></th><th scope=col>Var1</th><th scope=col>Freq</th></tr></thead>\n",
       "<tbody>\n",
       "\t<tr><th scope=row>10</th><td>translation    </td><td>15             </td></tr>\n",
       "\t<tr><th scope=row>1</th><td>cohesion       </td><td>13             </td></tr>\n",
       "\t<tr><th scope=row>9</th><td>syntax         </td><td> 8             </td></tr>\n",
       "\t<tr><th scope=row>5</th><td>intertextuality</td><td> 7             </td></tr>\n",
       "\t<tr><th scope=row>4</th><td>innertextuality</td><td> 3             </td></tr>\n",
       "\t<tr><th scope=row>6</th><td>metonymy       </td><td> 3             </td></tr>\n",
       "\t<tr><th scope=row>7</th><td>redundancy     </td><td> 2             </td></tr>\n",
       "\t<tr><th scope=row>11</th><td>vorlage        </td><td> 2             </td></tr>\n",
       "\t<tr><th scope=row>2</th><td>contradiction  </td><td> 1             </td></tr>\n",
       "\t<tr><th scope=row>3</th><td>hypernymy      </td><td> 1             </td></tr>\n",
       "\t<tr><th scope=row>8</th><td>synecdoche     </td><td> 1             </td></tr>\n",
       "</tbody>\n",
       "</table>\n"
      ],
      "text/latex": [
       "\\begin{tabular}{r|ll}\n",
       "  & Var1 & Freq\\\\\n",
       "\\hline\n",
       "\t10 & translation     & 15             \\\\\n",
       "\t1 & cohesion        & 13             \\\\\n",
       "\t9 & syntax          &  8             \\\\\n",
       "\t5 & intertextuality &  7             \\\\\n",
       "\t4 & innertextuality &  3             \\\\\n",
       "\t6 & metonymy        &  3             \\\\\n",
       "\t7 & redundancy      &  2             \\\\\n",
       "\t11 & vorlage         &  2             \\\\\n",
       "\t2 & contradiction   &  1             \\\\\n",
       "\t3 & hypernymy       &  1             \\\\\n",
       "\t8 & synecdoche      &  1             \\\\\n",
       "\\end{tabular}\n"
      ],
      "text/markdown": [
       "\n",
       "| <!--/--> | Var1 | Freq | \n",
       "|---|---|---|---|---|---|---|---|---|---|---|\n",
       "| 10 | translation     | 15              | \n",
       "| 1 | cohesion        | 13              | \n",
       "| 9 | syntax          |  8              | \n",
       "| 5 | intertextuality |  7              | \n",
       "| 4 | innertextuality |  3              | \n",
       "| 6 | metonymy        |  3              | \n",
       "| 7 | redundancy      |  2              | \n",
       "| 11 | vorlage         |  2              | \n",
       "| 2 | contradiction   |  1              | \n",
       "| 3 | hypernymy       |  1              | \n",
       "| 8 | synecdoche      |  1              | \n",
       "\n",
       "\n"
      ],
      "text/plain": [
       "   Var1            Freq\n",
       "10 translation     15  \n",
       "1  cohesion        13  \n",
       "9  syntax           8  \n",
       "5  intertextuality  7  \n",
       "4  innertextuality  3  \n",
       "6  metonymy         3  \n",
       "7  redundancy       2  \n",
       "11 vorlage          2  \n",
       "2  contradiction    1  \n",
       "3  hypernymy        1  \n",
       "8  synecdoche       1  "
      ]
     },
     "metadata": {},
     "output_type": "display_data"
    }
   ],
   "source": [
    "causes <- as.data.frame(table(vars$cause))\n",
    "\n",
    "causes[order(causes[,2], decreasing=T),]"
   ]
  },
  {
   "cell_type": "markdown",
   "metadata": {},
   "source": [
    "### Effects of Change"
   ]
  },
  {
   "cell_type": "code",
   "execution_count": 6,
   "metadata": {
    "scrolled": false
   },
   "outputs": [
    {
     "data": {
      "text/html": [
       "<table>\n",
       "<thead><tr><th></th><th scope=col>Var1</th><th scope=col>Freq</th></tr></thead>\n",
       "<tbody>\n",
       "\t<tr><th scope=row>10</th><td>number       </td><td>13           </td></tr>\n",
       "\t<tr><th scope=row>2</th><td>adjunct      </td><td> 8           </td></tr>\n",
       "\t<tr><th scope=row>1</th><td>actant       </td><td> 6           </td></tr>\n",
       "\t<tr><th scope=row>15</th><td>resolution   </td><td> 5           </td></tr>\n",
       "\t<tr><th scope=row>9</th><td>narrowing    </td><td> 4           </td></tr>\n",
       "\t<tr><th scope=row>3</th><td>apposition   </td><td> 3           </td></tr>\n",
       "\t<tr><th scope=row>7</th><td>literalism   </td><td> 3           </td></tr>\n",
       "\t<tr><th scope=row>11</th><td>person       </td><td> 3           </td></tr>\n",
       "\t<tr><th scope=row>4</th><td>coordination </td><td> 2           </td></tr>\n",
       "\t<tr><th scope=row>8</th><td>metonymy     </td><td> 2           </td></tr>\n",
       "\t<tr><th scope=row>13</th><td>pronominal   </td><td> 2           </td></tr>\n",
       "\t<tr><th scope=row>5</th><td>demonstrative</td><td> 1           </td></tr>\n",
       "\t<tr><th scope=row>6</th><td>hyponym      </td><td> 1           </td></tr>\n",
       "\t<tr><th scope=row>12</th><td>predication  </td><td> 1           </td></tr>\n",
       "\t<tr><th scope=row>14</th><td>pronunciation</td><td> 1           </td></tr>\n",
       "\t<tr><th scope=row>16</th><td>subordination</td><td> 1           </td></tr>\n",
       "</tbody>\n",
       "</table>\n"
      ],
      "text/latex": [
       "\\begin{tabular}{r|ll}\n",
       "  & Var1 & Freq\\\\\n",
       "\\hline\n",
       "\t10 & number        & 13           \\\\\n",
       "\t2 & adjunct       &  8           \\\\\n",
       "\t1 & actant        &  6           \\\\\n",
       "\t15 & resolution    &  5           \\\\\n",
       "\t9 & narrowing     &  4           \\\\\n",
       "\t3 & apposition    &  3           \\\\\n",
       "\t7 & literalism    &  3           \\\\\n",
       "\t11 & person        &  3           \\\\\n",
       "\t4 & coordination  &  2           \\\\\n",
       "\t8 & metonymy      &  2           \\\\\n",
       "\t13 & pronominal    &  2           \\\\\n",
       "\t5 & demonstrative &  1           \\\\\n",
       "\t6 & hyponym       &  1           \\\\\n",
       "\t12 & predication   &  1           \\\\\n",
       "\t14 & pronunciation &  1           \\\\\n",
       "\t16 & subordination &  1           \\\\\n",
       "\\end{tabular}\n"
      ],
      "text/markdown": [
       "\n",
       "| <!--/--> | Var1 | Freq | \n",
       "|---|---|---|---|---|---|---|---|---|---|---|---|---|---|---|---|\n",
       "| 10 | number        | 13            | \n",
       "| 2 | adjunct       |  8            | \n",
       "| 1 | actant        |  6            | \n",
       "| 15 | resolution    |  5            | \n",
       "| 9 | narrowing     |  4            | \n",
       "| 3 | apposition    |  3            | \n",
       "| 7 | literalism    |  3            | \n",
       "| 11 | person        |  3            | \n",
       "| 4 | coordination  |  2            | \n",
       "| 8 | metonymy      |  2            | \n",
       "| 13 | pronominal    |  2            | \n",
       "| 5 | demonstrative |  1            | \n",
       "| 6 | hyponym       |  1            | \n",
       "| 12 | predication   |  1            | \n",
       "| 14 | pronunciation |  1            | \n",
       "| 16 | subordination |  1            | \n",
       "\n",
       "\n"
      ],
      "text/plain": [
       "   Var1          Freq\n",
       "10 number        13  \n",
       "2  adjunct        8  \n",
       "1  actant         6  \n",
       "15 resolution     5  \n",
       "9  narrowing      4  \n",
       "3  apposition     3  \n",
       "7  literalism     3  \n",
       "11 person         3  \n",
       "4  coordination   2  \n",
       "8  metonymy       2  \n",
       "13 pronominal     2  \n",
       "5  demonstrative  1  \n",
       "6  hyponym        1  \n",
       "12 predication    1  \n",
       "14 pronunciation  1  \n",
       "16 subordination  1  "
      ]
     },
     "metadata": {},
     "output_type": "display_data"
    }
   ],
   "source": [
    "effects <- as.data.frame(table(vars$effect))\n",
    "effects[order(effects[,2], decreasing=T),]"
   ]
  },
  {
   "cell_type": "markdown",
   "metadata": {},
   "source": [
    "**Kinds of Changes and Their Effects**"
   ]
  },
  {
   "cell_type": "code",
   "execution_count": 7,
   "metadata": {
    "scrolled": false
   },
   "outputs": [
    {
     "data": {
      "text/html": [
       "<table>\n",
       "<thead><tr><th></th><th scope=col>exchange</th><th scope=col>expansion</th><th scope=col>omission</th><th scope=col>total</th></tr></thead>\n",
       "<tbody>\n",
       "\t<tr><th scope=row>number</th><td>13</td><td>0 </td><td>0 </td><td>13</td></tr>\n",
       "\t<tr><th scope=row>adjunct</th><td> 0</td><td>7 </td><td>1 </td><td> 8</td></tr>\n",
       "\t<tr><th scope=row>actant</th><td> 5</td><td>0 </td><td>1 </td><td> 6</td></tr>\n",
       "\t<tr><th scope=row>resolution</th><td> 1</td><td>4 </td><td>0 </td><td> 5</td></tr>\n",
       "\t<tr><th scope=row>narrowing</th><td> 4</td><td>0 </td><td>0 </td><td> 4</td></tr>\n",
       "\t<tr><th scope=row>apposition</th><td> 0</td><td>3 </td><td>0 </td><td> 3</td></tr>\n",
       "\t<tr><th scope=row>literalism</th><td> 3</td><td>0 </td><td>0 </td><td> 3</td></tr>\n",
       "\t<tr><th scope=row>person</th><td> 3</td><td>0 </td><td>0 </td><td> 3</td></tr>\n",
       "\t<tr><th scope=row>coordination</th><td> 0</td><td>2 </td><td>0 </td><td> 2</td></tr>\n",
       "\t<tr><th scope=row>metonymy</th><td> 2</td><td>0 </td><td>0 </td><td> 2</td></tr>\n",
       "\t<tr><th scope=row>pronominal</th><td> 0</td><td>0 </td><td>2 </td><td> 2</td></tr>\n",
       "\t<tr><th scope=row>demonstrative</th><td> 0</td><td>1 </td><td>0 </td><td> 1</td></tr>\n",
       "\t<tr><th scope=row>hyponym</th><td> 0</td><td>0 </td><td>1 </td><td> 1</td></tr>\n",
       "\t<tr><th scope=row>predication</th><td> 1</td><td>0 </td><td>0 </td><td> 1</td></tr>\n",
       "\t<tr><th scope=row>pronunciation</th><td> 1</td><td>0 </td><td>0 </td><td> 1</td></tr>\n",
       "\t<tr><th scope=row>subordination</th><td> 0</td><td>0 </td><td>1 </td><td> 1</td></tr>\n",
       "</tbody>\n",
       "</table>\n"
      ],
      "text/latex": [
       "\\begin{tabular}{r|llll}\n",
       "  & exchange & expansion & omission & total\\\\\n",
       "\\hline\n",
       "\tnumber & 13 & 0  & 0  & 13\\\\\n",
       "\tadjunct &  0 & 7  & 1  &  8\\\\\n",
       "\tactant &  5 & 0  & 1  &  6\\\\\n",
       "\tresolution &  1 & 4  & 0  &  5\\\\\n",
       "\tnarrowing &  4 & 0  & 0  &  4\\\\\n",
       "\tapposition &  0 & 3  & 0  &  3\\\\\n",
       "\tliteralism &  3 & 0  & 0  &  3\\\\\n",
       "\tperson &  3 & 0  & 0  &  3\\\\\n",
       "\tcoordination &  0 & 2  & 0  &  2\\\\\n",
       "\tmetonymy &  2 & 0  & 0  &  2\\\\\n",
       "\tpronominal &  0 & 0  & 2  &  2\\\\\n",
       "\tdemonstrative &  0 & 1  & 0  &  1\\\\\n",
       "\thyponym &  0 & 0  & 1  &  1\\\\\n",
       "\tpredication &  1 & 0  & 0  &  1\\\\\n",
       "\tpronunciation &  1 & 0  & 0  &  1\\\\\n",
       "\tsubordination &  0 & 0  & 1  &  1\\\\\n",
       "\\end{tabular}\n"
      ],
      "text/markdown": [
       "\n",
       "| <!--/--> | exchange | expansion | omission | total | \n",
       "|---|---|---|---|---|---|---|---|---|---|---|---|---|---|---|---|\n",
       "| number | 13 | 0  | 0  | 13 | \n",
       "| adjunct |  0 | 7  | 1  |  8 | \n",
       "| actant |  5 | 0  | 1  |  6 | \n",
       "| resolution |  1 | 4  | 0  |  5 | \n",
       "| narrowing |  4 | 0  | 0  |  4 | \n",
       "| apposition |  0 | 3  | 0  |  3 | \n",
       "| literalism |  3 | 0  | 0  |  3 | \n",
       "| person |  3 | 0  | 0  |  3 | \n",
       "| coordination |  0 | 2  | 0  |  2 | \n",
       "| metonymy |  2 | 0  | 0  |  2 | \n",
       "| pronominal |  0 | 0  | 2  |  2 | \n",
       "| demonstrative |  0 | 1  | 0  |  1 | \n",
       "| hyponym |  0 | 0  | 1  |  1 | \n",
       "| predication |  1 | 0  | 0  |  1 | \n",
       "| pronunciation |  1 | 0  | 0  |  1 | \n",
       "| subordination |  0 | 0  | 1  |  1 | \n",
       "\n",
       "\n"
      ],
      "text/plain": [
       "              exchange expansion omission total\n",
       "number        13       0         0        13   \n",
       "adjunct        0       7         1         8   \n",
       "actant         5       0         1         6   \n",
       "resolution     1       4         0         5   \n",
       "narrowing      4       0         0         4   \n",
       "apposition     0       3         0         3   \n",
       "literalism     3       0         0         3   \n",
       "person         3       0         0         3   \n",
       "coordination   0       2         0         2   \n",
       "metonymy       2       0         0         2   \n",
       "pronominal     0       0         2         2   \n",
       "demonstrative  0       1         0         1   \n",
       "hyponym        0       0         1         1   \n",
       "predication    1       0         0         1   \n",
       "pronunciation  1       0         0         1   \n",
       "subordination  0       0         1         1   "
      ]
     },
     "metadata": {},
     "output_type": "display_data"
    }
   ],
   "source": [
    "effect.kind.raw <- table(vars$effect, vars$kind)\n",
    "effect.kind <- as.data.frame(cbind(effect.kind.raw[,1], \n",
    "                                   effect.kind.raw[,2],\n",
    "                                   effect.kind.raw[,3], \n",
    "                                   rowSums(effect.kind.raw)\n",
    "                                  ))\n",
    "colnames(effect.kind) <- append(colnames(effect.kind.raw), 'total')\n",
    "\n",
    "effect.kind <- effect.kind[order(effect.kind$total, decreasing = T),]\n",
    "\n",
    "(effect.kind)"
   ]
  },
  {
   "cell_type": "code",
   "execution_count": 8,
   "metadata": {
    "collapsed": true
   },
   "outputs": [],
   "source": [
    "write.csv(effect.kind, 'effects_and_kinds.csv')"
   ]
  },
  {
   "cell_type": "markdown",
   "metadata": {},
   "source": [
    "### Kinds and Levels of Changes"
   ]
  },
  {
   "cell_type": "code",
   "execution_count": 9,
   "metadata": {},
   "outputs": [
    {
     "data": {
      "text/plain": [
       "           \n",
       "            clause letter phrase text word\n",
       "  exchange       0      1      0    1   31\n",
       "  expansion      1      0      8    0    8\n",
       "  omission       0      0      0    0    6"
      ]
     },
     "metadata": {},
     "output_type": "display_data"
    }
   ],
   "source": [
    "table(vars$kind, vars$lvl)"
   ]
  },
  {
   "cell_type": "markdown",
   "metadata": {},
   "source": [
    "### Level of the Change to the Level of Effect"
   ]
  },
  {
   "cell_type": "code",
   "execution_count": 10,
   "metadata": {},
   "outputs": [
    {
     "data": {
      "text/html": [
       "<table>\n",
       "<thead><tr><th></th><th scope=col>clause</th><th scope=col>phrase</th><th scope=col>sentence</th><th scope=col>text</th><th scope=col>word</th><th scope=col>total</th></tr></thead>\n",
       "<tbody>\n",
       "\t<tr><th scope=row>word</th><td>8 </td><td>13</td><td>0 </td><td>5 </td><td>19</td><td>45</td></tr>\n",
       "\t<tr><th scope=row>phrase</th><td>5 </td><td> 3</td><td>0 </td><td>0 </td><td> 0</td><td> 8</td></tr>\n",
       "\t<tr><th scope=row>clause</th><td>0 </td><td> 0</td><td>1 </td><td>0 </td><td> 0</td><td> 1</td></tr>\n",
       "\t<tr><th scope=row>letter</th><td>0 </td><td> 0</td><td>0 </td><td>0 </td><td> 1</td><td> 1</td></tr>\n",
       "\t<tr><th scope=row>text</th><td>0 </td><td> 0</td><td>0 </td><td>1 </td><td> 0</td><td> 1</td></tr>\n",
       "</tbody>\n",
       "</table>\n"
      ],
      "text/latex": [
       "\\begin{tabular}{r|llllll}\n",
       "  & clause & phrase & sentence & text & word & total\\\\\n",
       "\\hline\n",
       "\tword & 8  & 13 & 0  & 5  & 19 & 45\\\\\n",
       "\tphrase & 5  &  3 & 0  & 0  &  0 &  8\\\\\n",
       "\tclause & 0  &  0 & 1  & 0  &  0 &  1\\\\\n",
       "\tletter & 0  &  0 & 0  & 0  &  1 &  1\\\\\n",
       "\ttext & 0  &  0 & 0  & 1  &  0 &  1\\\\\n",
       "\\end{tabular}\n"
      ],
      "text/markdown": [
       "\n",
       "| <!--/--> | clause | phrase | sentence | text | word | total | \n",
       "|---|---|---|---|---|\n",
       "| word | 8  | 13 | 0  | 5  | 19 | 45 | \n",
       "| phrase | 5  |  3 | 0  | 0  |  0 |  8 | \n",
       "| clause | 0  |  0 | 1  | 0  |  0 |  1 | \n",
       "| letter | 0  |  0 | 0  | 0  |  1 |  1 | \n",
       "| text | 0  |  0 | 0  | 1  |  0 |  1 | \n",
       "\n",
       "\n"
      ],
      "text/plain": [
       "       clause phrase sentence text word total\n",
       "word   8      13     0        5    19   45   \n",
       "phrase 5       3     0        0     0    8   \n",
       "clause 0       0     1        0     0    1   \n",
       "letter 0       0     0        0     1    1   \n",
       "text   0       0     0        1     0    1   "
      ]
     },
     "metadata": {},
     "output_type": "display_data"
    }
   ],
   "source": [
    "change.lvl.raw <- table(vars$lvl, vars$effect.lvl)\n",
    "change.lvl <- as.data.frame(cbind(change.lvl.raw[,1], \n",
    "                                  change.lvl.raw[,2],\n",
    "                                  change.lvl.raw[,3], \n",
    "                                  change.lvl.raw[,4],\n",
    "                                  change.lvl.raw[,5],\n",
    "                                  rowSums(change.lvl.raw)\n",
    "                                  ))\n",
    "colnames(change.lvl) <- append(colnames(change.lvl.raw), 'total')\n",
    "\n",
    "change.lvl <- change.lvl[order(change.lvl$total, decreasing = T),]\n",
    "\n",
    "write.csv(change.lvl, 'change_lvls.csv')\n",
    "\n",
    "change.lvl"
   ]
  }
 ],
 "metadata": {
  "kernelspec": {
   "display_name": "R",
   "language": "R",
   "name": "ir"
  },
  "language_info": {
   "codemirror_mode": "r",
   "file_extension": ".r",
   "mimetype": "text/x-r-source",
   "name": "R",
   "pygments_lexer": "r",
   "version": "3.4.2"
  }
 },
 "nbformat": 4,
 "nbformat_minor": 2
}
